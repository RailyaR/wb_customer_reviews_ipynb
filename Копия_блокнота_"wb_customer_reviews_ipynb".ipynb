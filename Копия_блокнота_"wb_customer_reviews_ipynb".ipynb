{
  "nbformat": 4,
  "nbformat_minor": 0,
  "metadata": {
    "colab": {
      "provenance": [],
      "toc_visible": true,
      "mount_file_id": "17x8i-WsTWcrvk1A8XuzR_cwlfOSNu4lP",
      "authorship_tag": "ABX9TyNs+4jY3XNqSaPx7seu/bFG"
    },
    "kernelspec": {
      "name": "python3",
      "display_name": "Python 3"
    },
    "language_info": {
      "name": "python"
    }
  },
  "cells": [
    {
      "cell_type": "markdown",
      "source": [
        "**Задача**: \n",
        "\n",
        "Необходимо разработать механизм, позволяющий определить фейковые отзывы. Фейковый отзыв — проплаченный, нечестно мотивированный отзыв с целью повлиять на рейтинг товара.\n",
        "\n",
        "Существует два вида таких отзывов:\n",
        "\n",
        "- положительный отзыв написан для поставщика, который заказал себе этот отзыв; \n",
        "- отрицательный отзыв написан для другого поставщика с целью снизить рейтинг товара.\n",
        "\n",
        "**Данные**\n",
        "\n",
        "Cписок размеченных отзывов, со всей необходимой мета-информацией формате csv (пользователь, текст отзыва, оценка, является ли фейком)\n",
        "\n",
        "**Результат**\n",
        "\n",
        "Итогом работы должен стать набор скриптов, который позволяет по полученному на входе отзыву получить ответ, является отзыв фейковым, а также сформированная выдача для тестовых отзывов."
      ],
      "metadata": {
        "id": "i2AzcIXG8ERb"
      }
    },
    {
      "cell_type": "markdown",
      "source": [
        "**задача :** проработка и формализация задачи, определение таргета\n"
      ],
      "metadata": {
        "id": "3jQa8PcG9QZw"
      }
    },
    {
      "cell_type": "markdown",
      "source": [
        "**итог работы:** определен таргет, определена мл задача"
      ],
      "metadata": {
        "id": "vh1achsX9Wsj"
      }
    },
    {
      "cell_type": "markdown",
      "source": [
        "**Таргет** -  тагетом является - 'label'\n",
        "\n",
        "**мл задача** - бинарный классификатор"
      ],
      "metadata": {
        "id": "mvBFaplOccfH"
      }
    },
    {
      "cell_type": "markdown",
      "source": [
        "**План проекта**\n",
        "\n",
        "1.Понимание бизнес-проблемы\n",
        "\n",
        "2.Изучение данных и ознакомление с ними(Изучение содержимого файлов, предварительная обработка для удобства дальнейшей работы.)\n",
        "\n",
        "3.Подготовка данных к моделированию посредством обнаружения резко отклоняющихся значений, преобразования переменных, обработки пропущенных значений,Определение целевого признака.Кодирование признаков.Удаление ненужных признаков.Разбиение данных на выборки.\n",
        " Агрегрирование и объединение таблиц. Изучение целевого признака.\n",
        "\n",
        "4.определить, что является для нас ключевой метрикой, к каким показателям качества стремиться;\n",
        "\n",
        "5.подготовить несколько моделей машинного обучения (и анализ результата для внесения соответствующих изменений,выбираем лучшую модель на кросс-валидации)- разработать бинарный классификатор;  \n",
        "\n",
        "6.Проверка модели с использованием нового набора данных(тестовый набор данных)\n",
        "\n",
        "7.предоставить полноценный отчет с рекомендациями для бизнеса."
      ],
      "metadata": {
        "id": "HLL-fxFsBnYR"
      }
    },
    {
      "cell_type": "markdown",
      "source": [],
      "metadata": {
        "id": "vuzefOhZbTUB"
      }
    },
    {
      "cell_type": "code",
      "execution_count": null,
      "metadata": {
        "colab": {
          "base_uri": "https://localhost:8080/"
        },
        "id": "nPGY4iWeXNfa",
        "outputId": "8a711fb4-0f3f-4ff9-9182-3e395bb81821"
      },
      "outputs": [
        {
          "output_type": "stream",
          "name": "stderr",
          "text": [
            "[nltk_data] Downloading package wordnet to /root/nltk_data...\n",
            "[nltk_data]   Package wordnet is already up-to-date!\n",
            "[nltk_data] Downloading package stopwords to /root/nltk_data...\n",
            "[nltk_data]   Package stopwords is already up-to-date!\n"
          ]
        }
      ],
      "source": [
        "import numpy as np\n",
        "import pandas as pd\n",
        "import seaborn as sns\n",
        "\n",
        "from sklearn.linear_model import LogisticRegression\n",
        "from sklearn.model_selection import cross_val_score\n",
        "from sklearn.model_selection import train_test_split, GridSearchCV\n",
        "from sklearn.feature_extraction.text import TfidfVectorizer\n",
        "from nltk.stem import WordNetLemmatizer \n",
        "from sklearn.ensemble import RandomForestClassifier\n",
        "\n",
        "\n",
        "import re\n",
        "\n",
        "\n",
        "\n",
        "\n",
        "import nltk\n",
        "from nltk.corpus import stopwords as nltk_stopwords\n",
        "nltk.download('wordnet')\n",
        "nltk.download('stopwords')\n",
        "\n",
        "import warnings\n",
        "warnings.filterwarnings('ignore')\n",
        "\n",
        "RANDOM_STATE = 1234567"
      ]
    },
    {
      "cell_type": "code",
      "source": [
        "data =  pd.read_csv('/content/drive/MyDrive/wb/wb_school_task_2.csv')"
      ],
      "metadata": {
        "id": "GFGMvCA4XXNh"
      },
      "execution_count": null,
      "outputs": []
    },
    {
      "cell_type": "code",
      "source": [
        "data.head()\n"
      ],
      "metadata": {
        "colab": {
          "base_uri": "https://localhost:8080/",
          "height": 206
        },
        "id": "cc5dp3P6e6RA",
        "outputId": "cbccf476-f35d-4df3-f291-b6c0fbba7a5c"
      },
      "execution_count": null,
      "outputs": [
        {
          "output_type": "execute_result",
          "data": {
            "text/plain": [
              "                    id1                   id2                   id3  \\\n",
              "0   7596126584852021591    173777575861152844  18254136755182295358   \n",
              "1   5327406586753254371  14366783259208998381   2324030737335224220   \n",
              "2   2636757786779776109  16985421652518589249   4904562693381133981   \n",
              "3  15432976385014516263   2629180387521298831  13541353053200353836   \n",
              "4  11933982800034911890  14531191561111600318   9121890650636487522   \n",
              "\n",
              "                                                text  f1  f2   f3   f4  f5  \\\n",
              "0  Хотела купить на замену старых,по итогу эти  у...   1   1  1.0   11  13   \n",
              "1  Запах по сравнению с обычным DOVE никакой. Оно...  10   6  2.7   46   4   \n",
              "2                   Кабель подошёл, хорошо работает.   4   4  4.0   14   0   \n",
              "3  Восторг! Очень приятный аромат, держится долго...   6   6  5.0  374  30   \n",
              "4  Визуально все хорошо. Не пробовали. Купили в п...  19  18  5.0    6   4   \n",
              "\n",
              "         f6  f7   f8  label  \n",
              "0  4.272727  18   36      0  \n",
              "1  4.434783  90  109      1  \n",
              "2  4.500000   4    6      0  \n",
              "3  4.772727  14   15      1  \n",
              "4  5.000000  26   33      0  "
            ],
            "text/html": [
              "\n",
              "  <div id=\"df-7d428b0c-58b1-423e-afb6-9b98afdb8a9c\">\n",
              "    <div class=\"colab-df-container\">\n",
              "      <div>\n",
              "<style scoped>\n",
              "    .dataframe tbody tr th:only-of-type {\n",
              "        vertical-align: middle;\n",
              "    }\n",
              "\n",
              "    .dataframe tbody tr th {\n",
              "        vertical-align: top;\n",
              "    }\n",
              "\n",
              "    .dataframe thead th {\n",
              "        text-align: right;\n",
              "    }\n",
              "</style>\n",
              "<table border=\"1\" class=\"dataframe\">\n",
              "  <thead>\n",
              "    <tr style=\"text-align: right;\">\n",
              "      <th></th>\n",
              "      <th>id1</th>\n",
              "      <th>id2</th>\n",
              "      <th>id3</th>\n",
              "      <th>text</th>\n",
              "      <th>f1</th>\n",
              "      <th>f2</th>\n",
              "      <th>f3</th>\n",
              "      <th>f4</th>\n",
              "      <th>f5</th>\n",
              "      <th>f6</th>\n",
              "      <th>f7</th>\n",
              "      <th>f8</th>\n",
              "      <th>label</th>\n",
              "    </tr>\n",
              "  </thead>\n",
              "  <tbody>\n",
              "    <tr>\n",
              "      <th>0</th>\n",
              "      <td>7596126584852021591</td>\n",
              "      <td>173777575861152844</td>\n",
              "      <td>18254136755182295358</td>\n",
              "      <td>Хотела купить на замену старых,по итогу эти  у...</td>\n",
              "      <td>1</td>\n",
              "      <td>1</td>\n",
              "      <td>1.0</td>\n",
              "      <td>11</td>\n",
              "      <td>13</td>\n",
              "      <td>4.272727</td>\n",
              "      <td>18</td>\n",
              "      <td>36</td>\n",
              "      <td>0</td>\n",
              "    </tr>\n",
              "    <tr>\n",
              "      <th>1</th>\n",
              "      <td>5327406586753254371</td>\n",
              "      <td>14366783259208998381</td>\n",
              "      <td>2324030737335224220</td>\n",
              "      <td>Запах по сравнению с обычным DOVE никакой. Оно...</td>\n",
              "      <td>10</td>\n",
              "      <td>6</td>\n",
              "      <td>2.7</td>\n",
              "      <td>46</td>\n",
              "      <td>4</td>\n",
              "      <td>4.434783</td>\n",
              "      <td>90</td>\n",
              "      <td>109</td>\n",
              "      <td>1</td>\n",
              "    </tr>\n",
              "    <tr>\n",
              "      <th>2</th>\n",
              "      <td>2636757786779776109</td>\n",
              "      <td>16985421652518589249</td>\n",
              "      <td>4904562693381133981</td>\n",
              "      <td>Кабель подошёл, хорошо работает.</td>\n",
              "      <td>4</td>\n",
              "      <td>4</td>\n",
              "      <td>4.0</td>\n",
              "      <td>14</td>\n",
              "      <td>0</td>\n",
              "      <td>4.500000</td>\n",
              "      <td>4</td>\n",
              "      <td>6</td>\n",
              "      <td>0</td>\n",
              "    </tr>\n",
              "    <tr>\n",
              "      <th>3</th>\n",
              "      <td>15432976385014516263</td>\n",
              "      <td>2629180387521298831</td>\n",
              "      <td>13541353053200353836</td>\n",
              "      <td>Восторг! Очень приятный аромат, держится долго...</td>\n",
              "      <td>6</td>\n",
              "      <td>6</td>\n",
              "      <td>5.0</td>\n",
              "      <td>374</td>\n",
              "      <td>30</td>\n",
              "      <td>4.772727</td>\n",
              "      <td>14</td>\n",
              "      <td>15</td>\n",
              "      <td>1</td>\n",
              "    </tr>\n",
              "    <tr>\n",
              "      <th>4</th>\n",
              "      <td>11933982800034911890</td>\n",
              "      <td>14531191561111600318</td>\n",
              "      <td>9121890650636487522</td>\n",
              "      <td>Визуально все хорошо. Не пробовали. Купили в п...</td>\n",
              "      <td>19</td>\n",
              "      <td>18</td>\n",
              "      <td>5.0</td>\n",
              "      <td>6</td>\n",
              "      <td>4</td>\n",
              "      <td>5.000000</td>\n",
              "      <td>26</td>\n",
              "      <td>33</td>\n",
              "      <td>0</td>\n",
              "    </tr>\n",
              "  </tbody>\n",
              "</table>\n",
              "</div>\n",
              "      <button class=\"colab-df-convert\" onclick=\"convertToInteractive('df-7d428b0c-58b1-423e-afb6-9b98afdb8a9c')\"\n",
              "              title=\"Convert this dataframe to an interactive table.\"\n",
              "              style=\"display:none;\">\n",
              "        \n",
              "  <svg xmlns=\"http://www.w3.org/2000/svg\" height=\"24px\"viewBox=\"0 0 24 24\"\n",
              "       width=\"24px\">\n",
              "    <path d=\"M0 0h24v24H0V0z\" fill=\"none\"/>\n",
              "    <path d=\"M18.56 5.44l.94 2.06.94-2.06 2.06-.94-2.06-.94-.94-2.06-.94 2.06-2.06.94zm-11 1L8.5 8.5l.94-2.06 2.06-.94-2.06-.94L8.5 2.5l-.94 2.06-2.06.94zm10 10l.94 2.06.94-2.06 2.06-.94-2.06-.94-.94-2.06-.94 2.06-2.06.94z\"/><path d=\"M17.41 7.96l-1.37-1.37c-.4-.4-.92-.59-1.43-.59-.52 0-1.04.2-1.43.59L10.3 9.45l-7.72 7.72c-.78.78-.78 2.05 0 2.83L4 21.41c.39.39.9.59 1.41.59.51 0 1.02-.2 1.41-.59l7.78-7.78 2.81-2.81c.8-.78.8-2.07 0-2.86zM5.41 20L4 18.59l7.72-7.72 1.47 1.35L5.41 20z\"/>\n",
              "  </svg>\n",
              "      </button>\n",
              "      \n",
              "  <style>\n",
              "    .colab-df-container {\n",
              "      display:flex;\n",
              "      flex-wrap:wrap;\n",
              "      gap: 12px;\n",
              "    }\n",
              "\n",
              "    .colab-df-convert {\n",
              "      background-color: #E8F0FE;\n",
              "      border: none;\n",
              "      border-radius: 50%;\n",
              "      cursor: pointer;\n",
              "      display: none;\n",
              "      fill: #1967D2;\n",
              "      height: 32px;\n",
              "      padding: 0 0 0 0;\n",
              "      width: 32px;\n",
              "    }\n",
              "\n",
              "    .colab-df-convert:hover {\n",
              "      background-color: #E2EBFA;\n",
              "      box-shadow: 0px 1px 2px rgba(60, 64, 67, 0.3), 0px 1px 3px 1px rgba(60, 64, 67, 0.15);\n",
              "      fill: #174EA6;\n",
              "    }\n",
              "\n",
              "    [theme=dark] .colab-df-convert {\n",
              "      background-color: #3B4455;\n",
              "      fill: #D2E3FC;\n",
              "    }\n",
              "\n",
              "    [theme=dark] .colab-df-convert:hover {\n",
              "      background-color: #434B5C;\n",
              "      box-shadow: 0px 1px 3px 1px rgba(0, 0, 0, 0.15);\n",
              "      filter: drop-shadow(0px 1px 2px rgba(0, 0, 0, 0.3));\n",
              "      fill: #FFFFFF;\n",
              "    }\n",
              "  </style>\n",
              "\n",
              "      <script>\n",
              "        const buttonEl =\n",
              "          document.querySelector('#df-7d428b0c-58b1-423e-afb6-9b98afdb8a9c button.colab-df-convert');\n",
              "        buttonEl.style.display =\n",
              "          google.colab.kernel.accessAllowed ? 'block' : 'none';\n",
              "\n",
              "        async function convertToInteractive(key) {\n",
              "          const element = document.querySelector('#df-7d428b0c-58b1-423e-afb6-9b98afdb8a9c');\n",
              "          const dataTable =\n",
              "            await google.colab.kernel.invokeFunction('convertToInteractive',\n",
              "                                                     [key], {});\n",
              "          if (!dataTable) return;\n",
              "\n",
              "          const docLinkHtml = 'Like what you see? Visit the ' +\n",
              "            '<a target=\"_blank\" href=https://colab.research.google.com/notebooks/data_table.ipynb>data table notebook</a>'\n",
              "            + ' to learn more about interactive tables.';\n",
              "          element.innerHTML = '';\n",
              "          dataTable['output_type'] = 'display_data';\n",
              "          await google.colab.output.renderOutput(dataTable, element);\n",
              "          const docLink = document.createElement('div');\n",
              "          docLink.innerHTML = docLinkHtml;\n",
              "          element.appendChild(docLink);\n",
              "        }\n",
              "      </script>\n",
              "    </div>\n",
              "  </div>\n",
              "  "
            ]
          },
          "metadata": {},
          "execution_count": 30
        }
      ]
    },
    {
      "cell_type": "code",
      "source": [
        "data.info()"
      ],
      "metadata": {
        "colab": {
          "base_uri": "https://localhost:8080/"
        },
        "id": "lyHM5XvIe7n-",
        "outputId": "488a70ba-7ac5-43d4-f049-371a614310f4"
      },
      "execution_count": null,
      "outputs": [
        {
          "output_type": "stream",
          "name": "stdout",
          "text": [
            "<class 'pandas.core.frame.DataFrame'>\n",
            "RangeIndex: 3123 entries, 0 to 3122\n",
            "Data columns (total 13 columns):\n",
            " #   Column  Non-Null Count  Dtype  \n",
            "---  ------  --------------  -----  \n",
            " 0   id1     3123 non-null   uint64 \n",
            " 1   id2     3123 non-null   uint64 \n",
            " 2   id3     3123 non-null   uint64 \n",
            " 3   text    3123 non-null   object \n",
            " 4   f1      3123 non-null   int64  \n",
            " 5   f2      3123 non-null   int64  \n",
            " 6   f3      3123 non-null   float64\n",
            " 7   f4      3123 non-null   int64  \n",
            " 8   f5      3123 non-null   int64  \n",
            " 9   f6      3123 non-null   float64\n",
            " 10  f7      3123 non-null   int64  \n",
            " 11  f8      3123 non-null   int64  \n",
            " 12  label   3123 non-null   int64  \n",
            "dtypes: float64(2), int64(7), object(1), uint64(3)\n",
            "memory usage: 317.3+ KB\n"
          ]
        }
      ]
    },
    {
      "cell_type": "code",
      "source": [
        "def show_rows(data_frame):\n",
        "    rows_count, columns_count = data_frame.shape\n",
        "    print('Количество стобцов:', columns_count)\n",
        "    print('Количество строк:', rows_count)\n",
        "    for column in data_frame.columns:\n",
        "        print('Количество пропусков в каждом столбце')    \n",
        "        print(data_frame.isna().sum())"
      ],
      "metadata": {
        "id": "bUr5FlIXDtos"
      },
      "execution_count": null,
      "outputs": []
    },
    {
      "cell_type": "code",
      "source": [
        " show_rows(data)"
      ],
      "metadata": {
        "colab": {
          "base_uri": "https://localhost:8080/"
        },
        "id": "fI5MlD7dEBL9",
        "outputId": "0b532d72-65cb-4bc5-81a9-09fc51cd2a09"
      },
      "execution_count": null,
      "outputs": [
        {
          "output_type": "stream",
          "name": "stdout",
          "text": [
            "Количество стобцов: 13\n",
            "Количество строк: 3123\n",
            "Количество пропусков в каждом столбце\n",
            "id1      0\n",
            "id2      0\n",
            "id3      0\n",
            "text     0\n",
            "f1       0\n",
            "f2       0\n",
            "f3       0\n",
            "f4       0\n",
            "f5       0\n",
            "f6       0\n",
            "f7       0\n",
            "f8       0\n",
            "label    0\n",
            "dtype: int64\n",
            "Количество пропусков в каждом столбце\n",
            "id1      0\n",
            "id2      0\n",
            "id3      0\n",
            "text     0\n",
            "f1       0\n",
            "f2       0\n",
            "f3       0\n",
            "f4       0\n",
            "f5       0\n",
            "f6       0\n",
            "f7       0\n",
            "f8       0\n",
            "label    0\n",
            "dtype: int64\n",
            "Количество пропусков в каждом столбце\n",
            "id1      0\n",
            "id2      0\n",
            "id3      0\n",
            "text     0\n",
            "f1       0\n",
            "f2       0\n",
            "f3       0\n",
            "f4       0\n",
            "f5       0\n",
            "f6       0\n",
            "f7       0\n",
            "f8       0\n",
            "label    0\n",
            "dtype: int64\n",
            "Количество пропусков в каждом столбце\n",
            "id1      0\n",
            "id2      0\n",
            "id3      0\n",
            "text     0\n",
            "f1       0\n",
            "f2       0\n",
            "f3       0\n",
            "f4       0\n",
            "f5       0\n",
            "f6       0\n",
            "f7       0\n",
            "f8       0\n",
            "label    0\n",
            "dtype: int64\n",
            "Количество пропусков в каждом столбце\n",
            "id1      0\n",
            "id2      0\n",
            "id3      0\n",
            "text     0\n",
            "f1       0\n",
            "f2       0\n",
            "f3       0\n",
            "f4       0\n",
            "f5       0\n",
            "f6       0\n",
            "f7       0\n",
            "f8       0\n",
            "label    0\n",
            "dtype: int64\n",
            "Количество пропусков в каждом столбце\n",
            "id1      0\n",
            "id2      0\n",
            "id3      0\n",
            "text     0\n",
            "f1       0\n",
            "f2       0\n",
            "f3       0\n",
            "f4       0\n",
            "f5       0\n",
            "f6       0\n",
            "f7       0\n",
            "f8       0\n",
            "label    0\n",
            "dtype: int64\n",
            "Количество пропусков в каждом столбце\n",
            "id1      0\n",
            "id2      0\n",
            "id3      0\n",
            "text     0\n",
            "f1       0\n",
            "f2       0\n",
            "f3       0\n",
            "f4       0\n",
            "f5       0\n",
            "f6       0\n",
            "f7       0\n",
            "f8       0\n",
            "label    0\n",
            "dtype: int64\n",
            "Количество пропусков в каждом столбце\n",
            "id1      0\n",
            "id2      0\n",
            "id3      0\n",
            "text     0\n",
            "f1       0\n",
            "f2       0\n",
            "f3       0\n",
            "f4       0\n",
            "f5       0\n",
            "f6       0\n",
            "f7       0\n",
            "f8       0\n",
            "label    0\n",
            "dtype: int64\n",
            "Количество пропусков в каждом столбце\n",
            "id1      0\n",
            "id2      0\n",
            "id3      0\n",
            "text     0\n",
            "f1       0\n",
            "f2       0\n",
            "f3       0\n",
            "f4       0\n",
            "f5       0\n",
            "f6       0\n",
            "f7       0\n",
            "f8       0\n",
            "label    0\n",
            "dtype: int64\n",
            "Количество пропусков в каждом столбце\n",
            "id1      0\n",
            "id2      0\n",
            "id3      0\n",
            "text     0\n",
            "f1       0\n",
            "f2       0\n",
            "f3       0\n",
            "f4       0\n",
            "f5       0\n",
            "f6       0\n",
            "f7       0\n",
            "f8       0\n",
            "label    0\n",
            "dtype: int64\n",
            "Количество пропусков в каждом столбце\n",
            "id1      0\n",
            "id2      0\n",
            "id3      0\n",
            "text     0\n",
            "f1       0\n",
            "f2       0\n",
            "f3       0\n",
            "f4       0\n",
            "f5       0\n",
            "f6       0\n",
            "f7       0\n",
            "f8       0\n",
            "label    0\n",
            "dtype: int64\n",
            "Количество пропусков в каждом столбце\n",
            "id1      0\n",
            "id2      0\n",
            "id3      0\n",
            "text     0\n",
            "f1       0\n",
            "f2       0\n",
            "f3       0\n",
            "f4       0\n",
            "f5       0\n",
            "f6       0\n",
            "f7       0\n",
            "f8       0\n",
            "label    0\n",
            "dtype: int64\n",
            "Количество пропусков в каждом столбце\n",
            "id1      0\n",
            "id2      0\n",
            "id3      0\n",
            "text     0\n",
            "f1       0\n",
            "f2       0\n",
            "f3       0\n",
            "f4       0\n",
            "f5       0\n",
            "f6       0\n",
            "f7       0\n",
            "f8       0\n",
            "label    0\n",
            "dtype: int64\n"
          ]
        }
      ]
    },
    {
      "cell_type": "markdown",
      "source": [
        "*Комментарий:* Пропуски отсутствуют. Стоит проверить количество уникальных элементов для следующих признаков:'id1','id2','id3'. Для того чтобы понять, а какой id является id - пользователя "
      ],
      "metadata": {
        "id": "TLt1YypPGjAz"
      }
    },
    {
      "cell_type": "code",
      "source": [
        "data[['id1','id2','id3']].nunique()"
      ],
      "metadata": {
        "colab": {
          "base_uri": "https://localhost:8080/"
        },
        "id": "SG3lh_r3GME_",
        "outputId": "e6e32700-b6a4-49e6-9922-d4418b6eec1e"
      },
      "execution_count": null,
      "outputs": [
        {
          "output_type": "execute_result",
          "data": {
            "text/plain": [
              "id1    3049\n",
              "id2    3006\n",
              "id3     978\n",
              "dtype: int64"
            ]
          },
          "metadata": {},
          "execution_count": 34
        }
      ]
    },
    {
      "cell_type": "markdown",
      "source": [
        "*Комментарий:* Id3 -больше похоже на id пользователя.Так один пользователь может оставлять отзывы на различные товары. Следовательно остальные id можно удалить"
      ],
      "metadata": {
        "id": "sC1DTvdoHf37"
      }
    },
    {
      "cell_type": "code",
      "source": [
        "df = data.drop(['id1','id2'],axis =1)"
      ],
      "metadata": {
        "id": "iDgua16pGdtI"
      },
      "execution_count": null,
      "outputs": []
    },
    {
      "cell_type": "code",
      "source": [
        "df"
      ],
      "metadata": {
        "colab": {
          "base_uri": "https://localhost:8080/",
          "height": 423
        },
        "id": "v2MWwRuOIURD",
        "outputId": "eb646b45-74b0-4939-9ccc-0946052738a1"
      },
      "execution_count": null,
      "outputs": [
        {
          "output_type": "execute_result",
          "data": {
            "text/plain": [
              "                       id3                                               text  \\\n",
              "0     18254136755182295358  Хотела купить на замену старых,по итогу эти  у...   \n",
              "1      2324030737335224220  Запах по сравнению с обычным DOVE никакой. Оно...   \n",
              "2      4904562693381133981                   Кабель подошёл, хорошо работает.   \n",
              "3     13541353053200353836  Восторг! Очень приятный аромат, держится долго...   \n",
              "4      9121890650636487522  Визуально все хорошо. Не пробовали. Купили в п...   \n",
              "...                    ...                                                ...   \n",
              "3118   6836784353719029392  Стекло не плохое,но есть один минус на техно с...   \n",
              "3119  12090430373311552618  Всё пришло запаковано, ничего не сломано. Лучш...   \n",
              "3120  18003133089489520237  Мне нравятся 👍🏻 я очень аллергичная, посоветов...   \n",
              "3121  12214993272083833542           Спасибо,  целая пришла. Хорошо упаковано   \n",
              "3122  11716132433518331197            Бур нормальный, но выбрал другую модель   \n",
              "\n",
              "      f1  f2        f3   f4  f5        f6   f7   f8  label  \n",
              "0      1   1  1.000000   11  13  4.272727   18   36      0  \n",
              "1     10   6  2.700000   46   4  4.434783   90  109      1  \n",
              "2      4   4  4.000000   14   0  4.500000    4    6      0  \n",
              "3      6   6  5.000000  374  30  4.772727   14   15      1  \n",
              "4     19  18  5.000000    6   4  5.000000   26   33      0  \n",
              "...   ..  ..       ...  ...  ..       ...  ...  ...    ...  \n",
              "3118   2   2  3.000000   19   1  4.263158    9    9      0  \n",
              "3119   8   8  4.375000  131  83  4.183206   18   18      0  \n",
              "3120  13  12  5.000000  145   2  4.944828   12   14      0  \n",
              "3121   3   3  5.000000  205  19  4.648780  103  155      0  \n",
              "3122  42  29  4.809524   61  17  4.655738   54  101      0  \n",
              "\n",
              "[3123 rows x 11 columns]"
            ],
            "text/html": [
              "\n",
              "  <div id=\"df-1c9b4e59-da55-4d5d-a434-4f12adc7a8b0\">\n",
              "    <div class=\"colab-df-container\">\n",
              "      <div>\n",
              "<style scoped>\n",
              "    .dataframe tbody tr th:only-of-type {\n",
              "        vertical-align: middle;\n",
              "    }\n",
              "\n",
              "    .dataframe tbody tr th {\n",
              "        vertical-align: top;\n",
              "    }\n",
              "\n",
              "    .dataframe thead th {\n",
              "        text-align: right;\n",
              "    }\n",
              "</style>\n",
              "<table border=\"1\" class=\"dataframe\">\n",
              "  <thead>\n",
              "    <tr style=\"text-align: right;\">\n",
              "      <th></th>\n",
              "      <th>id3</th>\n",
              "      <th>text</th>\n",
              "      <th>f1</th>\n",
              "      <th>f2</th>\n",
              "      <th>f3</th>\n",
              "      <th>f4</th>\n",
              "      <th>f5</th>\n",
              "      <th>f6</th>\n",
              "      <th>f7</th>\n",
              "      <th>f8</th>\n",
              "      <th>label</th>\n",
              "    </tr>\n",
              "  </thead>\n",
              "  <tbody>\n",
              "    <tr>\n",
              "      <th>0</th>\n",
              "      <td>18254136755182295358</td>\n",
              "      <td>Хотела купить на замену старых,по итогу эти  у...</td>\n",
              "      <td>1</td>\n",
              "      <td>1</td>\n",
              "      <td>1.000000</td>\n",
              "      <td>11</td>\n",
              "      <td>13</td>\n",
              "      <td>4.272727</td>\n",
              "      <td>18</td>\n",
              "      <td>36</td>\n",
              "      <td>0</td>\n",
              "    </tr>\n",
              "    <tr>\n",
              "      <th>1</th>\n",
              "      <td>2324030737335224220</td>\n",
              "      <td>Запах по сравнению с обычным DOVE никакой. Оно...</td>\n",
              "      <td>10</td>\n",
              "      <td>6</td>\n",
              "      <td>2.700000</td>\n",
              "      <td>46</td>\n",
              "      <td>4</td>\n",
              "      <td>4.434783</td>\n",
              "      <td>90</td>\n",
              "      <td>109</td>\n",
              "      <td>1</td>\n",
              "    </tr>\n",
              "    <tr>\n",
              "      <th>2</th>\n",
              "      <td>4904562693381133981</td>\n",
              "      <td>Кабель подошёл, хорошо работает.</td>\n",
              "      <td>4</td>\n",
              "      <td>4</td>\n",
              "      <td>4.000000</td>\n",
              "      <td>14</td>\n",
              "      <td>0</td>\n",
              "      <td>4.500000</td>\n",
              "      <td>4</td>\n",
              "      <td>6</td>\n",
              "      <td>0</td>\n",
              "    </tr>\n",
              "    <tr>\n",
              "      <th>3</th>\n",
              "      <td>13541353053200353836</td>\n",
              "      <td>Восторг! Очень приятный аромат, держится долго...</td>\n",
              "      <td>6</td>\n",
              "      <td>6</td>\n",
              "      <td>5.000000</td>\n",
              "      <td>374</td>\n",
              "      <td>30</td>\n",
              "      <td>4.772727</td>\n",
              "      <td>14</td>\n",
              "      <td>15</td>\n",
              "      <td>1</td>\n",
              "    </tr>\n",
              "    <tr>\n",
              "      <th>4</th>\n",
              "      <td>9121890650636487522</td>\n",
              "      <td>Визуально все хорошо. Не пробовали. Купили в п...</td>\n",
              "      <td>19</td>\n",
              "      <td>18</td>\n",
              "      <td>5.000000</td>\n",
              "      <td>6</td>\n",
              "      <td>4</td>\n",
              "      <td>5.000000</td>\n",
              "      <td>26</td>\n",
              "      <td>33</td>\n",
              "      <td>0</td>\n",
              "    </tr>\n",
              "    <tr>\n",
              "      <th>...</th>\n",
              "      <td>...</td>\n",
              "      <td>...</td>\n",
              "      <td>...</td>\n",
              "      <td>...</td>\n",
              "      <td>...</td>\n",
              "      <td>...</td>\n",
              "      <td>...</td>\n",
              "      <td>...</td>\n",
              "      <td>...</td>\n",
              "      <td>...</td>\n",
              "      <td>...</td>\n",
              "    </tr>\n",
              "    <tr>\n",
              "      <th>3118</th>\n",
              "      <td>6836784353719029392</td>\n",
              "      <td>Стекло не плохое,но есть один минус на техно с...</td>\n",
              "      <td>2</td>\n",
              "      <td>2</td>\n",
              "      <td>3.000000</td>\n",
              "      <td>19</td>\n",
              "      <td>1</td>\n",
              "      <td>4.263158</td>\n",
              "      <td>9</td>\n",
              "      <td>9</td>\n",
              "      <td>0</td>\n",
              "    </tr>\n",
              "    <tr>\n",
              "      <th>3119</th>\n",
              "      <td>12090430373311552618</td>\n",
              "      <td>Всё пришло запаковано, ничего не сломано. Лучш...</td>\n",
              "      <td>8</td>\n",
              "      <td>8</td>\n",
              "      <td>4.375000</td>\n",
              "      <td>131</td>\n",
              "      <td>83</td>\n",
              "      <td>4.183206</td>\n",
              "      <td>18</td>\n",
              "      <td>18</td>\n",
              "      <td>0</td>\n",
              "    </tr>\n",
              "    <tr>\n",
              "      <th>3120</th>\n",
              "      <td>18003133089489520237</td>\n",
              "      <td>Мне нравятся 👍🏻 я очень аллергичная, посоветов...</td>\n",
              "      <td>13</td>\n",
              "      <td>12</td>\n",
              "      <td>5.000000</td>\n",
              "      <td>145</td>\n",
              "      <td>2</td>\n",
              "      <td>4.944828</td>\n",
              "      <td>12</td>\n",
              "      <td>14</td>\n",
              "      <td>0</td>\n",
              "    </tr>\n",
              "    <tr>\n",
              "      <th>3121</th>\n",
              "      <td>12214993272083833542</td>\n",
              "      <td>Спасибо,  целая пришла. Хорошо упаковано</td>\n",
              "      <td>3</td>\n",
              "      <td>3</td>\n",
              "      <td>5.000000</td>\n",
              "      <td>205</td>\n",
              "      <td>19</td>\n",
              "      <td>4.648780</td>\n",
              "      <td>103</td>\n",
              "      <td>155</td>\n",
              "      <td>0</td>\n",
              "    </tr>\n",
              "    <tr>\n",
              "      <th>3122</th>\n",
              "      <td>11716132433518331197</td>\n",
              "      <td>Бур нормальный, но выбрал другую модель</td>\n",
              "      <td>42</td>\n",
              "      <td>29</td>\n",
              "      <td>4.809524</td>\n",
              "      <td>61</td>\n",
              "      <td>17</td>\n",
              "      <td>4.655738</td>\n",
              "      <td>54</td>\n",
              "      <td>101</td>\n",
              "      <td>0</td>\n",
              "    </tr>\n",
              "  </tbody>\n",
              "</table>\n",
              "<p>3123 rows × 11 columns</p>\n",
              "</div>\n",
              "      <button class=\"colab-df-convert\" onclick=\"convertToInteractive('df-1c9b4e59-da55-4d5d-a434-4f12adc7a8b0')\"\n",
              "              title=\"Convert this dataframe to an interactive table.\"\n",
              "              style=\"display:none;\">\n",
              "        \n",
              "  <svg xmlns=\"http://www.w3.org/2000/svg\" height=\"24px\"viewBox=\"0 0 24 24\"\n",
              "       width=\"24px\">\n",
              "    <path d=\"M0 0h24v24H0V0z\" fill=\"none\"/>\n",
              "    <path d=\"M18.56 5.44l.94 2.06.94-2.06 2.06-.94-2.06-.94-.94-2.06-.94 2.06-2.06.94zm-11 1L8.5 8.5l.94-2.06 2.06-.94-2.06-.94L8.5 2.5l-.94 2.06-2.06.94zm10 10l.94 2.06.94-2.06 2.06-.94-2.06-.94-.94-2.06-.94 2.06-2.06.94z\"/><path d=\"M17.41 7.96l-1.37-1.37c-.4-.4-.92-.59-1.43-.59-.52 0-1.04.2-1.43.59L10.3 9.45l-7.72 7.72c-.78.78-.78 2.05 0 2.83L4 21.41c.39.39.9.59 1.41.59.51 0 1.02-.2 1.41-.59l7.78-7.78 2.81-2.81c.8-.78.8-2.07 0-2.86zM5.41 20L4 18.59l7.72-7.72 1.47 1.35L5.41 20z\"/>\n",
              "  </svg>\n",
              "      </button>\n",
              "      \n",
              "  <style>\n",
              "    .colab-df-container {\n",
              "      display:flex;\n",
              "      flex-wrap:wrap;\n",
              "      gap: 12px;\n",
              "    }\n",
              "\n",
              "    .colab-df-convert {\n",
              "      background-color: #E8F0FE;\n",
              "      border: none;\n",
              "      border-radius: 50%;\n",
              "      cursor: pointer;\n",
              "      display: none;\n",
              "      fill: #1967D2;\n",
              "      height: 32px;\n",
              "      padding: 0 0 0 0;\n",
              "      width: 32px;\n",
              "    }\n",
              "\n",
              "    .colab-df-convert:hover {\n",
              "      background-color: #E2EBFA;\n",
              "      box-shadow: 0px 1px 2px rgba(60, 64, 67, 0.3), 0px 1px 3px 1px rgba(60, 64, 67, 0.15);\n",
              "      fill: #174EA6;\n",
              "    }\n",
              "\n",
              "    [theme=dark] .colab-df-convert {\n",
              "      background-color: #3B4455;\n",
              "      fill: #D2E3FC;\n",
              "    }\n",
              "\n",
              "    [theme=dark] .colab-df-convert:hover {\n",
              "      background-color: #434B5C;\n",
              "      box-shadow: 0px 1px 3px 1px rgba(0, 0, 0, 0.15);\n",
              "      filter: drop-shadow(0px 1px 2px rgba(0, 0, 0, 0.3));\n",
              "      fill: #FFFFFF;\n",
              "    }\n",
              "  </style>\n",
              "\n",
              "      <script>\n",
              "        const buttonEl =\n",
              "          document.querySelector('#df-1c9b4e59-da55-4d5d-a434-4f12adc7a8b0 button.colab-df-convert');\n",
              "        buttonEl.style.display =\n",
              "          google.colab.kernel.accessAllowed ? 'block' : 'none';\n",
              "\n",
              "        async function convertToInteractive(key) {\n",
              "          const element = document.querySelector('#df-1c9b4e59-da55-4d5d-a434-4f12adc7a8b0');\n",
              "          const dataTable =\n",
              "            await google.colab.kernel.invokeFunction('convertToInteractive',\n",
              "                                                     [key], {});\n",
              "          if (!dataTable) return;\n",
              "\n",
              "          const docLinkHtml = 'Like what you see? Visit the ' +\n",
              "            '<a target=\"_blank\" href=https://colab.research.google.com/notebooks/data_table.ipynb>data table notebook</a>'\n",
              "            + ' to learn more about interactive tables.';\n",
              "          element.innerHTML = '';\n",
              "          dataTable['output_type'] = 'display_data';\n",
              "          await google.colab.output.renderOutput(dataTable, element);\n",
              "          const docLink = document.createElement('div');\n",
              "          docLink.innerHTML = docLinkHtml;\n",
              "          element.appendChild(docLink);\n",
              "        }\n",
              "      </script>\n",
              "    </div>\n",
              "  </div>\n",
              "  "
            ]
          },
          "metadata": {},
          "execution_count": 36
        }
      ]
    },
    {
      "cell_type": "markdown",
      "source": [
        "*Комментарий:* Теперь проверим баланс признаков - label"
      ],
      "metadata": {
        "id": "zCrM2o4cIrK7"
      }
    },
    {
      "cell_type": "code",
      "source": [
        "df['label'].value_counts()"
      ],
      "metadata": {
        "colab": {
          "base_uri": "https://localhost:8080/"
        },
        "id": "9rTpC9sXIVab",
        "outputId": "71b8f961-f192-41ed-fd49-4201d6e94d46"
      },
      "execution_count": null,
      "outputs": [
        {
          "output_type": "execute_result",
          "data": {
            "text/plain": [
              "0    2298\n",
              "1     825\n",
              "Name: label, dtype: int64"
            ]
          },
          "metadata": {},
          "execution_count": 37
        }
      ]
    },
    {
      "cell_type": "markdown",
      "source": [
        "*Комментарий:*Построим диаграмму для лучшей визуализации"
      ],
      "metadata": {
        "id": "ngOpqkWEJvCP"
      }
    },
    {
      "cell_type": "code",
      "source": [
        "df['label'].value_counts().plot.bar()"
      ],
      "metadata": {
        "colab": {
          "base_uri": "https://localhost:8080/",
          "height": 443
        },
        "id": "VvUrkf1HJtP2",
        "outputId": "0d162b89-0f39-4fe7-aeb9-e033db89704f"
      },
      "execution_count": null,
      "outputs": [
        {
          "output_type": "execute_result",
          "data": {
            "text/plain": [
              "<Axes: >"
            ]
          },
          "metadata": {},
          "execution_count": 38
        },
        {
          "output_type": "display_data",
          "data": {
            "text/plain": [
              "<Figure size 640x480 with 1 Axes>"
            ],
            "image/png": "[encoded data removed]"
          },
          "metadata": {}
        }
      ]
    },
    {
      "cell_type": "markdown",
      "source": [
        "*Комментарий:* Из графика видно, что присутствует сильный дисбаланс классов "
      ],
      "metadata": {
        "id": "LMiyps2NMOv-"
      }
    },
    {
      "cell_type": "code",
      "source": [
        "\n",
        "user_target =df.groupby('id3')['label'].mean()"
      ],
      "metadata": {
        "id": "u1HYNPdPJkII"
      },
      "execution_count": null,
      "outputs": []
    },
    {
      "cell_type": "code",
      "source": [
        "user_target"
      ],
      "metadata": {
        "colab": {
          "base_uri": "https://localhost:8080/"
        },
        "id": "CJRjlkXsOEdh",
        "outputId": "58314895-e28c-4ab6-ca4d-2c2f79ea6f76"
      },
      "execution_count": null,
      "outputs": [
        {
          "output_type": "execute_result",
          "data": {
            "text/plain": [
              "id3\n",
              "27166662291578269       0.000000\n",
              "75505668647254912       0.111111\n",
              "89524856874974827       0.200000\n",
              "93185620928058855       0.000000\n",
              "96661188109325683       0.500000\n",
              "                          ...   \n",
              "18395955373568991147    1.000000\n",
              "18417348117660323250    0.000000\n",
              "18427686369090007398    0.333333\n",
              "18439416307427740033    1.000000\n",
              "18444296891091659546    0.333333\n",
              "Name: label, Length: 978, dtype: float64"
            ]
          },
          "metadata": {},
          "execution_count": 40
        }
      ]
    },
    {
      "cell_type": "code",
      "source": [
        "\n",
        "user_target.hist()"
      ],
      "metadata": {
        "colab": {
          "base_uri": "https://localhost:8080/",
          "height": 448
        },
        "id": "GvdtkbP3NKZ8",
        "outputId": "4f020f86-4454-4609-befc-5d25f98c2757"
      },
      "execution_count": null,
      "outputs": [
        {
          "output_type": "execute_result",
          "data": {
            "text/plain": [
              "<Axes: >"
            ]
          },
          "metadata": {},
          "execution_count": 41
        },
        {
          "output_type": "display_data",
          "data": {
            "text/plain": [
              "<Figure size 640x480 with 1 Axes>"
            ],
            "image/png": "[encoded data removed]"
          },
          "metadata": {}
        }
      ]
    },
    {
      "cell_type": "markdown",
      "source": [
        "*Комментарий:* Из графика видно, что окола 158 пользователей пишут фейковые отзывы "
      ],
      "metadata": {
        "id": "QB-H3tfjdNLD"
      }
    },
    {
      "cell_type": "code",
      "source": [
        "fake_users = user_target.loc[user_target==1].index.to_list()"
      ],
      "metadata": {
        "id": "j2_VKXxSNNer"
      },
      "execution_count": null,
      "outputs": []
    },
    {
      "cell_type": "code",
      "source": [
        "df.loc[df['id3'].isin(fake_users)]"
      ],
      "metadata": {
        "colab": {
          "base_uri": "https://localhost:8080/",
          "height": 423
        },
        "id": "qS9DKfoSNoZn",
        "outputId": "aeec3e9f-042f-4929-b9ca-8c01267c2321"
      },
      "execution_count": null,
      "outputs": [
        {
          "output_type": "execute_result",
          "data": {
            "text/plain": [
              "                       id3                                               text  \\\n",
              "1      2324030737335224220  Запах по сравнению с обычным DOVE никакой. Оно...   \n",
              "13     5470748928248412803  Доставка-скорость света! Отличная ёмкость, каж...   \n",
              "23     5576082564072164535                                        ︎ ︎ ︎ ︎ ︎ ︎   \n",
              "60     7610598891996405620  К камню претензий нет. Неограненный берилл. Вс...   \n",
              "63     3167186606958567184                                     Классная вещь.   \n",
              "...                    ...                                                ...   \n",
              "2916   7825013314613369623                                   Спасибо большое.   \n",
              "2924  10161588360784006515      качество пленки классное, пользоваться удобно   \n",
              "2933  11181794830612897654  Товар пришел разбитым. Возврат не приняли. По ...   \n",
              "2948   7022523323558376342  Бомбическая штука,аромат супер  не стягивает кожу   \n",
              "3003   3092192811766542002  Заказ пришёл быстро цвет ток не тот при исполь...   \n",
              "\n",
              "      f1  f2        f3    f4   f5        f6  f7   f8  label  \n",
              "1     10   6  2.700000    46    4  4.434783  90  109      1  \n",
              "13    35  34  4.571429    18    1  4.833333  44   50      1  \n",
              "23     8   7  5.000000    96   27  4.520833  12   13      1  \n",
              "60    59  44  4.576271     2    2  3.500000  82  120      1  \n",
              "63     5   2  5.000000   100   18  5.000000   4    4      1  \n",
              "...   ..  ..       ...   ...  ...       ...  ..  ...    ...  \n",
              "2916   1   1  5.000000    23    2  4.260870   2    3      1  \n",
              "2924   3   3  5.000000  1312  242  4.911585  15   20      1  \n",
              "2933   8   8  4.000000    74   23  3.972973  55   62      1  \n",
              "2948  31  30  4.516129   482   45  4.533195  46   57      1  \n",
              "3003   5   5  3.800000   130   53  4.269231  17   18      1  \n",
              "\n",
              "[158 rows x 11 columns]"
            ],
            "text/html": [
              "\n",
              "  <div id=\"df-f6abb3ca-2546-48c9-a718-4fe29a6d840b\">\n",
              "    <div class=\"colab-df-container\">\n",
              "      <div>\n",
              "<style scoped>\n",
              "    .dataframe tbody tr th:only-of-type {\n",
              "        vertical-align: middle;\n",
              "    }\n",
              "\n",
              "    .dataframe tbody tr th {\n",
              "        vertical-align: top;\n",
              "    }\n",
              "\n",
              "    .dataframe thead th {\n",
              "        text-align: right;\n",
              "    }\n",
              "</style>\n",
              "<table border=\"1\" class=\"dataframe\">\n",
              "  <thead>\n",
              "    <tr style=\"text-align: right;\">\n",
              "      <th></th>\n",
              "      <th>id3</th>\n",
              "      <th>text</th>\n",
              "      <th>f1</th>\n",
              "      <th>f2</th>\n",
              "      <th>f3</th>\n",
              "      <th>f4</th>\n",
              "      <th>f5</th>\n",
              "      <th>f6</th>\n",
              "      <th>f7</th>\n",
              "      <th>f8</th>\n",
              "      <th>label</th>\n",
              "    </tr>\n",
              "  </thead>\n",
              "  <tbody>\n",
              "    <tr>\n",
              "      <th>1</th>\n",
              "      <td>2324030737335224220</td>\n",
              "      <td>Запах по сравнению с обычным DOVE никакой. Оно...</td>\n",
              "      <td>10</td>\n",
              "      <td>6</td>\n",
              "      <td>2.700000</td>\n",
              "      <td>46</td>\n",
              "      <td>4</td>\n",
              "      <td>4.434783</td>\n",
              "      <td>90</td>\n",
              "      <td>109</td>\n",
              "      <td>1</td>\n",
              "    </tr>\n",
              "    <tr>\n",
              "      <th>13</th>\n",
              "      <td>5470748928248412803</td>\n",
              "      <td>Доставка-скорость света! Отличная ёмкость, каж...</td>\n",
              "      <td>35</td>\n",
              "      <td>34</td>\n",
              "      <td>4.571429</td>\n",
              "      <td>18</td>\n",
              "      <td>1</td>\n",
              "      <td>4.833333</td>\n",
              "      <td>44</td>\n",
              "      <td>50</td>\n",
              "      <td>1</td>\n",
              "    </tr>\n",
              "    <tr>\n",
              "      <th>23</th>\n",
              "      <td>5576082564072164535</td>\n",
              "      <td>︎ ︎ ︎ ︎ ︎ ︎</td>\n",
              "      <td>8</td>\n",
              "      <td>7</td>\n",
              "      <td>5.000000</td>\n",
              "      <td>96</td>\n",
              "      <td>27</td>\n",
              "      <td>4.520833</td>\n",
              "      <td>12</td>\n",
              "      <td>13</td>\n",
              "      <td>1</td>\n",
              "    </tr>\n",
              "    <tr>\n",
              "      <th>60</th>\n",
              "      <td>7610598891996405620</td>\n",
              "      <td>К камню претензий нет. Неограненный берилл. Вс...</td>\n",
              "      <td>59</td>\n",
              "      <td>44</td>\n",
              "      <td>4.576271</td>\n",
              "      <td>2</td>\n",
              "      <td>2</td>\n",
              "      <td>3.500000</td>\n",
              "      <td>82</td>\n",
              "      <td>120</td>\n",
              "      <td>1</td>\n",
              "    </tr>\n",
              "    <tr>\n",
              "      <th>63</th>\n",
              "      <td>3167186606958567184</td>\n",
              "      <td>Классная вещь.</td>\n",
              "      <td>5</td>\n",
              "      <td>2</td>\n",
              "      <td>5.000000</td>\n",
              "      <td>100</td>\n",
              "      <td>18</td>\n",
              "      <td>5.000000</td>\n",
              "      <td>4</td>\n",
              "      <td>4</td>\n",
              "      <td>1</td>\n",
              "    </tr>\n",
              "    <tr>\n",
              "      <th>...</th>\n",
              "      <td>...</td>\n",
              "      <td>...</td>\n",
              "      <td>...</td>\n",
              "      <td>...</td>\n",
              "      <td>...</td>\n",
              "      <td>...</td>\n",
              "      <td>...</td>\n",
              "      <td>...</td>\n",
              "      <td>...</td>\n",
              "      <td>...</td>\n",
              "      <td>...</td>\n",
              "    </tr>\n",
              "    <tr>\n",
              "      <th>2916</th>\n",
              "      <td>7825013314613369623</td>\n",
              "      <td>Спасибо большое.</td>\n",
              "      <td>1</td>\n",
              "      <td>1</td>\n",
              "      <td>5.000000</td>\n",
              "      <td>23</td>\n",
              "      <td>2</td>\n",
              "      <td>4.260870</td>\n",
              "      <td>2</td>\n",
              "      <td>3</td>\n",
              "      <td>1</td>\n",
              "    </tr>\n",
              "    <tr>\n",
              "      <th>2924</th>\n",
              "      <td>10161588360784006515</td>\n",
              "      <td>качество пленки классное, пользоваться удобно</td>\n",
              "      <td>3</td>\n",
              "      <td>3</td>\n",
              "      <td>5.000000</td>\n",
              "      <td>1312</td>\n",
              "      <td>242</td>\n",
              "      <td>4.911585</td>\n",
              "      <td>15</td>\n",
              "      <td>20</td>\n",
              "      <td>1</td>\n",
              "    </tr>\n",
              "    <tr>\n",
              "      <th>2933</th>\n",
              "      <td>11181794830612897654</td>\n",
              "      <td>Товар пришел разбитым. Возврат не приняли. По ...</td>\n",
              "      <td>8</td>\n",
              "      <td>8</td>\n",
              "      <td>4.000000</td>\n",
              "      <td>74</td>\n",
              "      <td>23</td>\n",
              "      <td>3.972973</td>\n",
              "      <td>55</td>\n",
              "      <td>62</td>\n",
              "      <td>1</td>\n",
              "    </tr>\n",
              "    <tr>\n",
              "      <th>2948</th>\n",
              "      <td>7022523323558376342</td>\n",
              "      <td>Бомбическая штука,аромат супер  не стягивает кожу</td>\n",
              "      <td>31</td>\n",
              "      <td>30</td>\n",
              "      <td>4.516129</td>\n",
              "      <td>482</td>\n",
              "      <td>45</td>\n",
              "      <td>4.533195</td>\n",
              "      <td>46</td>\n",
              "      <td>57</td>\n",
              "      <td>1</td>\n",
              "    </tr>\n",
              "    <tr>\n",
              "      <th>3003</th>\n",
              "      <td>3092192811766542002</td>\n",
              "      <td>Заказ пришёл быстро цвет ток не тот при исполь...</td>\n",
              "      <td>5</td>\n",
              "      <td>5</td>\n",
              "      <td>3.800000</td>\n",
              "      <td>130</td>\n",
              "      <td>53</td>\n",
              "      <td>4.269231</td>\n",
              "      <td>17</td>\n",
              "      <td>18</td>\n",
              "      <td>1</td>\n",
              "    </tr>\n",
              "  </tbody>\n",
              "</table>\n",
              "<p>158 rows × 11 columns</p>\n",
              "</div>\n",
              "      <button class=\"colab-df-convert\" onclick=\"convertToInteractive('df-f6abb3ca-2546-48c9-a718-4fe29a6d840b')\"\n",
              "              title=\"Convert this dataframe to an interactive table.\"\n",
              "              style=\"display:none;\">\n",
              "        \n",
              "  <svg xmlns=\"http://www.w3.org/2000/svg\" height=\"24px\"viewBox=\"0 0 24 24\"\n",
              "       width=\"24px\">\n",
              "    <path d=\"M0 0h24v24H0V0z\" fill=\"none\"/>\n",
              "    <path d=\"M18.56 5.44l.94 2.06.94-2.06 2.06-.94-2.06-.94-.94-2.06-.94 2.06-2.06.94zm-11 1L8.5 8.5l.94-2.06 2.06-.94-2.06-.94L8.5 2.5l-.94 2.06-2.06.94zm10 10l.94 2.06.94-2.06 2.06-.94-2.06-.94-.94-2.06-.94 2.06-2.06.94z\"/><path d=\"M17.41 7.96l-1.37-1.37c-.4-.4-.92-.59-1.43-.59-.52 0-1.04.2-1.43.59L10.3 9.45l-7.72 7.72c-.78.78-.78 2.05 0 2.83L4 21.41c.39.39.9.59 1.41.59.51 0 1.02-.2 1.41-.59l7.78-7.78 2.81-2.81c.8-.78.8-2.07 0-2.86zM5.41 20L4 18.59l7.72-7.72 1.47 1.35L5.41 20z\"/>\n",
              "  </svg>\n",
              "      </button>\n",
              "      \n",
              "  <style>\n",
              "    .colab-df-container {\n",
              "      display:flex;\n",
              "      flex-wrap:wrap;\n",
              "      gap: 12px;\n",
              "    }\n",
              "\n",
              "    .colab-df-convert {\n",
              "      background-color: #E8F0FE;\n",
              "      border: none;\n",
              "      border-radius: 50%;\n",
              "      cursor: pointer;\n",
              "      display: none;\n",
              "      fill: #1967D2;\n",
              "      height: 32px;\n",
              "      padding: 0 0 0 0;\n",
              "      width: 32px;\n",
              "    }\n",
              "\n",
              "    .colab-df-convert:hover {\n",
              "      background-color: #E2EBFA;\n",
              "      box-shadow: 0px 1px 2px rgba(60, 64, 67, 0.3), 0px 1px 3px 1px rgba(60, 64, 67, 0.15);\n",
              "      fill: #174EA6;\n",
              "    }\n",
              "\n",
              "    [theme=dark] .colab-df-convert {\n",
              "      background-color: #3B4455;\n",
              "      fill: #D2E3FC;\n",
              "    }\n",
              "\n",
              "    [theme=dark] .colab-df-convert:hover {\n",
              "      background-color: #434B5C;\n",
              "      box-shadow: 0px 1px 3px 1px rgba(0, 0, 0, 0.15);\n",
              "      filter: drop-shadow(0px 1px 2px rgba(0, 0, 0, 0.3));\n",
              "      fill: #FFFFFF;\n",
              "    }\n",
              "  </style>\n",
              "\n",
              "      <script>\n",
              "        const buttonEl =\n",
              "          document.querySelector('#df-f6abb3ca-2546-48c9-a718-4fe29a6d840b button.colab-df-convert');\n",
              "        buttonEl.style.display =\n",
              "          google.colab.kernel.accessAllowed ? 'block' : 'none';\n",
              "\n",
              "        async function convertToInteractive(key) {\n",
              "          const element = document.querySelector('#df-f6abb3ca-2546-48c9-a718-4fe29a6d840b');\n",
              "          const dataTable =\n",
              "            await google.colab.kernel.invokeFunction('convertToInteractive',\n",
              "                                                     [key], {});\n",
              "          if (!dataTable) return;\n",
              "\n",
              "          const docLinkHtml = 'Like what you see? Visit the ' +\n",
              "            '<a target=\"_blank\" href=https://colab.research.google.com/notebooks/data_table.ipynb>data table notebook</a>'\n",
              "            + ' to learn more about interactive tables.';\n",
              "          element.innerHTML = '';\n",
              "          dataTable['output_type'] = 'display_data';\n",
              "          await google.colab.output.renderOutput(dataTable, element);\n",
              "          const docLink = document.createElement('div');\n",
              "          docLink.innerHTML = docLinkHtml;\n",
              "          element.appendChild(docLink);\n",
              "        }\n",
              "      </script>\n",
              "    </div>\n",
              "  </div>\n",
              "  "
            ]
          },
          "metadata": {},
          "execution_count": 43
        }
      ]
    },
    {
      "cell_type": "markdown",
      "source": [
        "*Комментарий:* "
      ],
      "metadata": {
        "id": "XnQCcRjfPB7b"
      }
    },
    {
      "cell_type": "code",
      "source": [
        "feats_corr = df[['f1','f2','f3','f4','f5','f6','f7','f8']].corr()"
      ],
      "metadata": {
        "id": "pvT_4WT_Oz9k"
      },
      "execution_count": null,
      "outputs": []
    },
    {
      "cell_type": "code",
      "source": [
        "sns.heatmap(feats_corr, annot = True,fmt='.2g')"
      ],
      "metadata": {
        "colab": {
          "base_uri": "https://localhost:8080/",
          "height": 453
        },
        "id": "xa2g3uciP5nm",
        "outputId": "89be390d-e92a-46e4-f710-e16c32d55486"
      },
      "execution_count": null,
      "outputs": [
        {
          "output_type": "execute_result",
          "data": {
            "text/plain": [
              "<Axes: >"
            ]
          },
          "metadata": {},
          "execution_count": 45
        },
        {
          "output_type": "display_data",
          "data": {
            "text/plain": [
              "<Figure size 640x480 with 2 Axes>"
            ],
            "image/png": "[encoded data removed]"
          },
          "metadata": {}
        }
      ]
    },
    {
      "cell_type": "code",
      "source": [
        "df[['f1','f2','f3','f4','f5','f6','f7','f8']].hist(figsize=(10,15))"
      ],
      "metadata": {
        "colab": {
          "base_uri": "https://localhost:8080/",
          "height": 1000
        },
        "id": "2DFYHaezQYMt",
        "outputId": "814d9d7a-8b17-42f4-cc37-669e0c4bd4ab"
      },
      "execution_count": null,
      "outputs": [
        {
          "output_type": "execute_result",
          "data": {
            "text/plain": [
              "array([[<Axes: title={'center': 'f1'}>, <Axes: title={'center': 'f2'}>,\n",
              "        <Axes: title={'center': 'f3'}>],\n",
              "       [<Axes: title={'center': 'f4'}>, <Axes: title={'center': 'f5'}>,\n",
              "        <Axes: title={'center': 'f6'}>],\n",
              "       [<Axes: title={'center': 'f7'}>, <Axes: title={'center': 'f8'}>,\n",
              "        <Axes: >]], dtype=object)"
            ]
          },
          "metadata": {},
          "execution_count": 46
        },
        {
          "output_type": "display_data",
          "data": {
            "text/plain": [
              "<Figure size 1000x1500 with 9 Axes>"
            ],
            "image/png": "[encoded data removed]"
          },
          "metadata": {}
        }
      ]
    },
    {
      "cell_type": "markdown",
      "source": [
        "*Комментарий:* На основе EDA нельзя сделать вывод о том какие f-лучше всего оставить. Но на первый взгляд, кажется, что f6,f3 - является оценкой в чистом виде. Но также можно заметить много выбросов, от них нужно избавиться "
      ],
      "metadata": {
        "id": "Ce3gGOI9dhLM"
      }
    },
    {
      "cell_type": "code",
      "source": [
        "df[['f1','f2','f3','f4','f5','f6','f7','f8']].boxplot(figsize=(12,10))"
      ],
      "metadata": {
        "colab": {
          "base_uri": "https://localhost:8080/",
          "height": 848
        },
        "id": "JH4B-uLjf5jH",
        "outputId": "d99bde8d-a9ba-4de1-c3d1-8577d335aa8f"
      },
      "execution_count": null,
      "outputs": [
        {
          "output_type": "execute_result",
          "data": {
            "text/plain": [
              "<Axes: >"
            ]
          },
          "metadata": {},
          "execution_count": 47
        },
        {
          "output_type": "display_data",
          "data": {
            "text/plain": [
              "<Figure size 1200x1000 with 1 Axes>"
            ],
            "image/png": "[encoded data removed]"
          },
          "metadata": {}
        }
      ]
    },
    {
      "cell_type": "markdown",
      "source": [
        "*Комментарий:* рассмотим каждую f,чтобы избавиться от выбрасов "
      ],
      "metadata": {
        "id": "PB5y4L_lidUZ"
      }
    }
  ]
}